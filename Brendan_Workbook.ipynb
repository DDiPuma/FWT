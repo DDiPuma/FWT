{
 "cells": [
  {
   "cell_type": "code",
   "execution_count": 1,
   "metadata": {},
   "outputs": [],
   "source": [
    "import imageio\n",
    "import matplotlib.pyplot as plt\n",
    "import numpy as np\n",
    "from haar import *\n"
   ]
  },
  {
   "cell_type": "code",
   "execution_count": 20,
   "metadata": {},
   "outputs": [
    {
     "name": "stderr",
     "output_type": "stream",
     "text": [
      "c:\\users\\abae9\\appdata\\local\\continuum\\anaconda3\\envs\\bjjheroes\\lib\\site-packages\\ipykernel_launcher.py:34: RuntimeWarning: overflow encountered in ubyte_scalars\n",
      "c:\\users\\abae9\\appdata\\local\\continuum\\anaconda3\\envs\\bjjheroes\\lib\\site-packages\\ipykernel_launcher.py:33: RuntimeWarning: overflow encountered in ubyte_scalars\n"
     ]
    }
   ],
   "source": [
    "cam = imageio.imread(\"imageio:camera.png\")\n",
    "imageio.imsave(\"cam.png\", cam)\n",
    "\n",
    "cam = imageio.imread(\"cam.png\").astype(float)\n",
    "xform_cam = fast_2d_haar_transform(cam).astype(np.uint8)\n",
    "\n",
    "imageio.imsave(\"cam_xform.png\", xform_cam)\n",
    "\n",
    "xform_cam = inplace_fast_2d_haar_transform(cam).astype(np.uint8)\n",
    "\n",
    "imageio.imsave(\"cam_inplace_xform.png\", xform_cam)\n",
    "\n",
    "xform_cam = inplace_inverse_fast_2d_haar_transform(xform_cam).astype(np.uint8)\n",
    "\n",
    "imageio.imsave(\"inplace_inverse_cam_xform.png\", xform_cam)\n"
   ]
  },
  {
   "cell_type": "code",
   "execution_count": 19,
   "metadata": {},
   "outputs": [],
   "source": [
    "# Heavily based on Wavelets Made Easy, Algorithm 1.16\n",
    "def inplace_fast_1d_haar_transform(signal):\n",
    "    n = int(log(len(signal), 2))\n",
    "    s = zero_pad(signal)\n",
    "    \n",
    "    I = 1\n",
    "    J = 2\n",
    "    M = int(2**n)\n",
    "    \n",
    "    for L in range(1, n+1):\n",
    "        M = M//2\n",
    "        for K in range(M):\n",
    "            a = (s[J*K] + s[J*K+I]) / 2\n",
    "            c = (s[J*K] - s[J*K+I]) / 2\n",
    "            s[J*K] = a\n",
    "            s[J*K+I] = c\n",
    "        I = J\n",
    "        J = 2*J\n",
    "        \n",
    "    return s\n",
    "\n",
    "# Heavily based on Wavelets Made Easy, Algorithm 1.19\n",
    "def inplace_inverse_fast_1d_haar_transform(signal):\n",
    "    n = int(log(len(signal), 2))\n",
    "    s = zero_pad(signal)\n",
    "    \n",
    "    I = int(2**(n-1))\n",
    "    J = 2*I\n",
    "    M = 1\n",
    "    \n",
    "    for L in range(n+1, 1, -1):\n",
    "        for K in range(M):\n",
    "            a1 = s[J*K] + s[J*K+I]\n",
    "            a2 = s[J*K] - s[J*K+I]\n",
    "            s[J*K] = a1\n",
    "            s[J*K+I] = a2\n",
    "        J = I\n",
    "        I = I//2\n",
    "        M = 2*M\n",
    "\n",
    "    return s\n",
    "\n",
    "def inplace_fast_2d_haar_transform(matrix):\n",
    "    first_transform = np.array([inplace_fast_1d_haar_transform(row) for row in matrix])\n",
    "    second_transform_T = [inplace_fast_1d_haar_transform(col) for col in first_transform.T]\n",
    "    return np.array(second_transform_T).T\n"
   ]
  },
  {
   "cell_type": "code",
   "execution_count": 4,
   "metadata": {},
   "outputs": [
    {
     "name": "stdout",
     "output_type": "stream",
     "text": [
      "[4.0, 2.0, -1.0, -3.0]\n",
      "[5.0, 1.0, 2.0, 8.0]\n"
     ]
    }
   ],
   "source": [
    "signal = [5, 1, 2, 8]\n",
    "haar_signal = inplace_fast_1d_haar_transform(signal)\n",
    "print(haar_signal)\n",
    "print(inplace_inverse_fast_1d_haar_transform(haar_signal))"
   ]
  },
  {
   "cell_type": "code",
   "execution_count": 10,
   "metadata": {},
   "outputs": [
    {
     "name": "stdout",
     "output_type": "stream",
     "text": [
      "[4.0, -1.0, 2.0, -3.0]\n"
     ]
    },
    {
     "ename": "NameError",
     "evalue": "name 'inverse_fast_1d_haar_transform' is not defined",
     "output_type": "error",
     "traceback": [
      "\u001b[0;31m---------------------------------------------------------------------------\u001b[0m",
      "\u001b[0;31mNameError\u001b[0m                                 Traceback (most recent call last)",
      "\u001b[0;32m<ipython-input-10-acc67e278189>\u001b[0m in \u001b[0;36m<module>\u001b[0;34m()\u001b[0m\n\u001b[1;32m      2\u001b[0m \u001b[0mhaar_signal\u001b[0m \u001b[0;34m=\u001b[0m \u001b[0mfast_1d_haar_transform\u001b[0m\u001b[0;34m(\u001b[0m\u001b[0msignal\u001b[0m\u001b[0;34m)\u001b[0m\u001b[0;34m\u001b[0m\u001b[0m\n\u001b[1;32m      3\u001b[0m \u001b[0mprint\u001b[0m\u001b[0;34m(\u001b[0m\u001b[0mhaar_signal\u001b[0m\u001b[0;34m)\u001b[0m\u001b[0;34m\u001b[0m\u001b[0m\n\u001b[0;32m----> 4\u001b[0;31m \u001b[0mprint\u001b[0m\u001b[0;34m(\u001b[0m\u001b[0minverse_fast_1d_haar_transform\u001b[0m\u001b[0;34m(\u001b[0m\u001b[0mhaar_signal\u001b[0m\u001b[0;34m)\u001b[0m\u001b[0;34m)\u001b[0m\u001b[0;34m\u001b[0m\u001b[0m\n\u001b[0m",
      "\u001b[0;31mNameError\u001b[0m: name 'inverse_fast_1d_haar_transform' is not defined"
     ]
    }
   ],
   "source": [
    "signal = [5, 1, 2, 8]\n",
    "haar_signal = fast_1d_haar_transform(signal)\n",
    "print(haar_signal)\n",
    "print(inverse_fast_1d_haar_transform(haar_signal))"
   ]
  },
  {
   "cell_type": "code",
   "execution_count": 5,
   "metadata": {},
   "outputs": [
    {
     "name": "stdout",
     "output_type": "stream",
     "text": [
      "[5.0, 1.0, 0.0, -2.0, -3.0, 1.0, -1.0, 0.0]\n",
      "[3.0, 1.0, 0.0, 4.0, 8.0, 6.0, 9.0, 9.0]\n"
     ]
    }
   ],
   "source": [
    "signal = [3, 1, 0, 4, 8, 6, 9, 9]\n",
    "haar_signal = inplace_fast_1d_haar_transform(signal)\n",
    "print(haar_signal)\n",
    "print(inplace_inverse_fast_1d_haar_transform(haar_signal))"
   ]
  },
  {
   "cell_type": "code",
   "execution_count": 11,
   "metadata": {},
   "outputs": [
    {
     "name": "stdout",
     "output_type": "stream",
     "text": [
      "[5.0, -3.0, 0.0, -1.0, 1.0, -2.0, 1.0, 0.0]\n"
     ]
    },
    {
     "ename": "NameError",
     "evalue": "name 'inverse_fast_1d_haar_transform' is not defined",
     "output_type": "error",
     "traceback": [
      "\u001b[0;31m---------------------------------------------------------------------------\u001b[0m",
      "\u001b[0;31mNameError\u001b[0m                                 Traceback (most recent call last)",
      "\u001b[0;32m<ipython-input-11-34591041a520>\u001b[0m in \u001b[0;36m<module>\u001b[0;34m()\u001b[0m\n\u001b[1;32m      2\u001b[0m \u001b[0mhaar_signal\u001b[0m \u001b[0;34m=\u001b[0m \u001b[0mfast_1d_haar_transform\u001b[0m\u001b[0;34m(\u001b[0m\u001b[0msignal\u001b[0m\u001b[0;34m)\u001b[0m\u001b[0;34m\u001b[0m\u001b[0m\n\u001b[1;32m      3\u001b[0m \u001b[0mprint\u001b[0m\u001b[0;34m(\u001b[0m\u001b[0mhaar_signal\u001b[0m\u001b[0;34m)\u001b[0m\u001b[0;34m\u001b[0m\u001b[0m\n\u001b[0;32m----> 4\u001b[0;31m \u001b[0mprint\u001b[0m\u001b[0;34m(\u001b[0m\u001b[0minverse_fast_1d_haar_transform\u001b[0m\u001b[0;34m(\u001b[0m\u001b[0mhaar_signal\u001b[0m\u001b[0;34m)\u001b[0m\u001b[0;34m)\u001b[0m\u001b[0;34m\u001b[0m\u001b[0m\n\u001b[0m",
      "\u001b[0;31mNameError\u001b[0m: name 'inverse_fast_1d_haar_transform' is not defined"
     ]
    }
   ],
   "source": [
    "signal = [3, 1, 0, 4, 8, 6, 9, 9]\n",
    "haar_signal = fast_1d_haar_transform(signal)\n",
    "print(haar_signal)\n",
    "print(inverse_fast_1d_haar_transform(haar_signal))"
   ]
  },
  {
   "cell_type": "code",
   "execution_count": null,
   "metadata": {},
   "outputs": [],
   "source": []
  }
 ],
 "metadata": {
  "kernelspec": {
   "display_name": "Python 3",
   "language": "python",
   "name": "python3"
  },
  "language_info": {
   "codemirror_mode": {
    "name": "ipython",
    "version": 3
   },
   "file_extension": ".py",
   "mimetype": "text/x-python",
   "name": "python",
   "nbconvert_exporter": "python",
   "pygments_lexer": "ipython3",
   "version": "3.5.6"
  }
 },
 "nbformat": 4,
 "nbformat_minor": 2
}
