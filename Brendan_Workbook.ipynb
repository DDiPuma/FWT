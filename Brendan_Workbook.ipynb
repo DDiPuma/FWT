{
 "cells": [
  {
   "cell_type": "code",
   "execution_count": 4,
   "metadata": {},
   "outputs": [],
   "source": [
    "import imageio\n",
    "import matplotlib.pyplot as plt\n",
    "import numpy as np\n",
    "from haar import *"
   ]
  },
  {
   "cell_type": "code",
   "execution_count": 4,
   "metadata": {},
   "outputs": [],
   "source": [
    "cam = imageio.imread(\"imageio:camera.png\")\n",
    "imageio.imsave(\"cam.png\", cam)\n",
    "\n",
    "cam = imageio.imread(\"cam.png\").astype(float)\n",
    "xform_cam = fast_2d_haar_transform(cam).astype(np.uint8)\n",
    "\n",
    "imageio.imsave(\"cam_xform.png\", xform_cam)\n",
    "\n",
    "xform_cam = inplace_fast_2d_haar_transform(cam).astype(np.uint8)\n",
    "\n",
    "imageio.imsave(\"cam_inplace_xform.png\", xform_cam)\n",
    "\n",
    "xform_cam = inplace_inverse_fast_2d_haar_transform(xform_cam).astype(np.uint8)\n",
    "\n",
    "imageio.imsave(\"inplace_inverse_cam_xform.png\", xform_cam)\n"
   ]
  },
  {
   "cell_type": "code",
   "execution_count": 16,
   "metadata": {},
   "outputs": [],
   "source": [
    "# Heavily based on Wavelets Made Easy, Algorithm 1.16\n",
    "def inplace_fast_1d_haar_transform(signal):\n",
    "    n = int(log(len(signal), 2))\n",
    "    s = zero_pad(signal)\n",
    "    \n",
    "    I = 1\n",
    "    J = 2\n",
    "    M = int(2**n)\n",
    "    \n",
    "    for L in range(1, n+1):\n",
    "        M = M//2\n",
    "        for K in range(M):\n",
    "            a = (s[J*K] + s[J*K+I]) / 2\n",
    "            c = (s[J*K] - s[J*K+I]) / 2\n",
    "            s[J*K] = a\n",
    "            s[J*K+I] = c\n",
    "        print(s)\n",
    "        I = J\n",
    "        J = 2*J\n",
    "        \n",
    "    return s\n",
    "\n",
    "# Heavily based on Wavelets Made Easy, Algorithm 1.19\n",
    "def inplace_inverse_fast_1d_haar_transform(signal):\n",
    "    n = int(log(len(signal), 2))\n",
    "    s = zero_pad(signal)\n",
    "    \n",
    "    I = int(2**(n-1))\n",
    "    J = 2*I\n",
    "    M = 1\n",
    "    \n",
    "    for L in range(n+1, 1, -1):\n",
    "        for K in range(M):\n",
    "            a1 = s[J*K] + s[J*K+I]\n",
    "            a2 = s[J*K] - s[J*K+I]\n",
    "            s[J*K] = a1\n",
    "            s[J*K+I] = a2\n",
    "        J = I\n",
    "        I = I//2\n",
    "        M = 2*M\n",
    "\n",
    "    return s\n",
    "\n",
    "def inplace_fast_2d_haar_transform(matrix):\n",
    "    first_transform = np.array([inplace_fast_1d_haar_transform(row) for row in matrix])\n",
    "    second_transform_T = [inplace_fast_1d_haar_transform(col) for col in first_transform.T]\n",
    "    return np.array(second_transform_T).T\n"
   ]
  },
  {
   "cell_type": "code",
   "execution_count": 17,
   "metadata": {},
   "outputs": [
    {
     "name": "stdout",
     "output_type": "stream",
     "text": [
      "[3.0, 2.0, 5.0, -3.0]\n",
      "[4.0, 2.0, -1.0, -3.0]\n",
      "[4.0, 2.0, -1.0, -3.0]\n",
      "[5.0, 1.0, 2.0, 8.0]\n"
     ]
    }
   ],
   "source": [
    "signal = [5, 1, 2, 8]\n",
    "haar_signal = inplace_fast_1d_haar_transform(signal)\n",
    "print(haar_signal)\n",
    "print(inplace_inverse_fast_1d_haar_transform(haar_signal))"
   ]
  },
  {
   "cell_type": "code",
   "execution_count": 18,
   "metadata": {},
   "outputs": [
    {
     "name": "stdout",
     "output_type": "stream",
     "text": [
      "[8.0, 1.0, 4.0, 2.0]\n",
      "[6.0, 1.0, 2.0, 2.0]\n",
      "[6.0, 1.0, 2.0, 2.0]\n",
      "[9.0, 7.0, 6.0, 2.0]\n"
     ]
    }
   ],
   "source": [
    "signal = [9, 7, 6, 2]\n",
    "haar_signal = inplace_fast_1d_haar_transform(signal)\n",
    "print(haar_signal)\n",
    "print(inplace_inverse_fast_1d_haar_transform(haar_signal))"
   ]
  },
  {
   "cell_type": "code",
   "execution_count": 15,
   "metadata": {},
   "outputs": [
    {
     "name": "stdout",
     "output_type": "stream",
     "text": [
      "[3.0, 5.0, 2.0, -3.0]\n",
      "[4.0, -1.0, 2.0, -3.0]\n",
      "[4.0, -1.0, 2.0, -3.0]\n"
     ]
    },
    {
     "ename": "NameError",
     "evalue": "name 'inverse_fast_1d_haar_transform' is not defined",
     "output_type": "error",
     "traceback": [
      "\u001b[0;31m---------------------------------------------------------------------------\u001b[0m",
      "\u001b[0;31mNameError\u001b[0m                                 Traceback (most recent call last)",
      "\u001b[0;32m<ipython-input-15-acc67e278189>\u001b[0m in \u001b[0;36m<module>\u001b[0;34m()\u001b[0m\n\u001b[1;32m      2\u001b[0m \u001b[0mhaar_signal\u001b[0m \u001b[0;34m=\u001b[0m \u001b[0mfast_1d_haar_transform\u001b[0m\u001b[0;34m(\u001b[0m\u001b[0msignal\u001b[0m\u001b[0;34m)\u001b[0m\u001b[0;34m\u001b[0m\u001b[0m\n\u001b[1;32m      3\u001b[0m \u001b[0mprint\u001b[0m\u001b[0;34m(\u001b[0m\u001b[0mhaar_signal\u001b[0m\u001b[0;34m)\u001b[0m\u001b[0;34m\u001b[0m\u001b[0m\n\u001b[0;32m----> 4\u001b[0;31m \u001b[0mprint\u001b[0m\u001b[0;34m(\u001b[0m\u001b[0minverse_fast_1d_haar_transform\u001b[0m\u001b[0;34m(\u001b[0m\u001b[0mhaar_signal\u001b[0m\u001b[0;34m)\u001b[0m\u001b[0;34m)\u001b[0m\u001b[0;34m\u001b[0m\u001b[0m\n\u001b[0m",
      "\u001b[0;31mNameError\u001b[0m: name 'inverse_fast_1d_haar_transform' is not defined"
     ]
    }
   ],
   "source": [
    "signal = [5, 1, 2, 8]\n",
    "haar_signal = fast_1d_haar_transform(signal)\n",
    "print(haar_signal)\n",
    "print(inverse_fast_1d_haar_transform(haar_signal))"
   ]
  },
  {
   "cell_type": "code",
   "execution_count": 9,
   "metadata": {},
   "outputs": [
    {
     "name": "stdout",
     "output_type": "stream",
     "text": [
      "[6.0, 2.0, 1.0, 2.0]\n"
     ]
    },
    {
     "ename": "NameError",
     "evalue": "name 'inverse_fast_1d_haar_transform' is not defined",
     "output_type": "error",
     "traceback": [
      "\u001b[0;31m---------------------------------------------------------------------------\u001b[0m",
      "\u001b[0;31mNameError\u001b[0m                                 Traceback (most recent call last)",
      "\u001b[0;32m<ipython-input-9-f9a2a89d5afe>\u001b[0m in \u001b[0;36m<module>\u001b[0;34m()\u001b[0m\n\u001b[1;32m      2\u001b[0m \u001b[0mhaar_signal\u001b[0m \u001b[0;34m=\u001b[0m \u001b[0mfast_1d_haar_transform\u001b[0m\u001b[0;34m(\u001b[0m\u001b[0msignal\u001b[0m\u001b[0;34m)\u001b[0m\u001b[0;34m\u001b[0m\u001b[0m\n\u001b[1;32m      3\u001b[0m \u001b[0mprint\u001b[0m\u001b[0;34m(\u001b[0m\u001b[0mhaar_signal\u001b[0m\u001b[0;34m)\u001b[0m\u001b[0;34m\u001b[0m\u001b[0m\n\u001b[0;32m----> 4\u001b[0;31m \u001b[0mprint\u001b[0m\u001b[0;34m(\u001b[0m\u001b[0minverse_fast_1d_haar_transform\u001b[0m\u001b[0;34m(\u001b[0m\u001b[0mhaar_signal\u001b[0m\u001b[0;34m)\u001b[0m\u001b[0;34m)\u001b[0m\u001b[0;34m\u001b[0m\u001b[0m\n\u001b[0m",
      "\u001b[0;31mNameError\u001b[0m: name 'inverse_fast_1d_haar_transform' is not defined"
     ]
    }
   ],
   "source": [
    "signal = [9, 7, 6, 2]\n",
    "haar_signal = fast_1d_haar_transform(signal)\n",
    "print(haar_signal)\n",
    "print(inverse_fast_1d_haar_transform(haar_signal))"
   ]
  },
  {
   "cell_type": "code",
   "execution_count": 5,
   "metadata": {},
   "outputs": [
    {
     "name": "stdout",
     "output_type": "stream",
     "text": [
      "[5.0, 1.0, 0.0, -2.0, -3.0, 1.0, -1.0, 0.0]\n",
      "[3.0, 1.0, 0.0, 4.0, 8.0, 6.0, 9.0, 9.0]\n"
     ]
    }
   ],
   "source": [
    "signal = [3, 1, 0, 4, 8, 6, 9, 9]\n",
    "haar_signal = inplace_fast_1d_haar_transform(signal)\n",
    "print(haar_signal)\n",
    "print(inplace_inverse_fast_1d_haar_transform(haar_signal))"
   ]
  },
  {
   "cell_type": "code",
   "execution_count": 6,
   "metadata": {},
   "outputs": [
    {
     "name": "stdout",
     "output_type": "stream",
     "text": [
      "[6.0, 1.0, 2.0, -1.0, 0.0, -2.0, 2.0, -2.0]\n",
      "[9.0, 7.0, 3.0, 5.0, 6.0, 10.0, 2.0, 6.0]\n"
     ]
    }
   ],
   "source": [
    "signal = [9, 7, 3, 5, 6, 10, 2, 6]\n",
    "haar_signal = inplace_fast_1d_haar_transform(signal)\n",
    "print(haar_signal)\n",
    "print(inplace_inverse_fast_1d_haar_transform(haar_signal))"
   ]
  },
  {
   "cell_type": "code",
   "execution_count": 11,
   "metadata": {},
   "outputs": [
    {
     "name": "stdout",
     "output_type": "stream",
     "text": [
      "[5.0, -3.0, 0.0, -1.0, 1.0, -2.0, 1.0, 0.0]\n"
     ]
    },
    {
     "ename": "NameError",
     "evalue": "name 'inverse_fast_1d_haar_transform' is not defined",
     "output_type": "error",
     "traceback": [
      "\u001b[0;31m---------------------------------------------------------------------------\u001b[0m",
      "\u001b[0;31mNameError\u001b[0m                                 Traceback (most recent call last)",
      "\u001b[0;32m<ipython-input-11-34591041a520>\u001b[0m in \u001b[0;36m<module>\u001b[0;34m()\u001b[0m\n\u001b[1;32m      2\u001b[0m \u001b[0mhaar_signal\u001b[0m \u001b[0;34m=\u001b[0m \u001b[0mfast_1d_haar_transform\u001b[0m\u001b[0;34m(\u001b[0m\u001b[0msignal\u001b[0m\u001b[0;34m)\u001b[0m\u001b[0;34m\u001b[0m\u001b[0m\n\u001b[1;32m      3\u001b[0m \u001b[0mprint\u001b[0m\u001b[0;34m(\u001b[0m\u001b[0mhaar_signal\u001b[0m\u001b[0;34m)\u001b[0m\u001b[0;34m\u001b[0m\u001b[0m\n\u001b[0;32m----> 4\u001b[0;31m \u001b[0mprint\u001b[0m\u001b[0;34m(\u001b[0m\u001b[0minverse_fast_1d_haar_transform\u001b[0m\u001b[0;34m(\u001b[0m\u001b[0mhaar_signal\u001b[0m\u001b[0;34m)\u001b[0m\u001b[0;34m)\u001b[0m\u001b[0;34m\u001b[0m\u001b[0m\n\u001b[0m",
      "\u001b[0;31mNameError\u001b[0m: name 'inverse_fast_1d_haar_transform' is not defined"
     ]
    }
   ],
   "source": [
    "signal = [3, 1, 0, 4, 8, 6, 9, 9]\n",
    "haar_signal = fast_1d_haar_transform(signal)\n",
    "print(haar_signal)\n",
    "print(inverse_fast_1d_haar_transform(haar_signal))"
   ]
  },
  {
   "cell_type": "code",
   "execution_count": 7,
   "metadata": {},
   "outputs": [
    {
     "name": "stdout",
     "output_type": "stream",
     "text": [
      "[6.0, 0.0, 2.0, 2.0, 1.0, -1.0, -2.0, -2.0]\n"
     ]
    },
    {
     "ename": "NameError",
     "evalue": "name 'inverse_fast_1d_haar_transform' is not defined",
     "output_type": "error",
     "traceback": [
      "\u001b[0;31m---------------------------------------------------------------------------\u001b[0m",
      "\u001b[0;31mNameError\u001b[0m                                 Traceback (most recent call last)",
      "\u001b[0;32m<ipython-input-7-95e533d7c756>\u001b[0m in \u001b[0;36m<module>\u001b[0;34m()\u001b[0m\n\u001b[1;32m      2\u001b[0m \u001b[0mhaar_signal\u001b[0m \u001b[0;34m=\u001b[0m \u001b[0mfast_1d_haar_transform\u001b[0m\u001b[0;34m(\u001b[0m\u001b[0msignal\u001b[0m\u001b[0;34m)\u001b[0m\u001b[0;34m\u001b[0m\u001b[0m\n\u001b[1;32m      3\u001b[0m \u001b[0mprint\u001b[0m\u001b[0;34m(\u001b[0m\u001b[0mhaar_signal\u001b[0m\u001b[0;34m)\u001b[0m\u001b[0;34m\u001b[0m\u001b[0m\n\u001b[0;32m----> 4\u001b[0;31m \u001b[0mprint\u001b[0m\u001b[0;34m(\u001b[0m\u001b[0minverse_fast_1d_haar_transform\u001b[0m\u001b[0;34m(\u001b[0m\u001b[0mhaar_signal\u001b[0m\u001b[0;34m)\u001b[0m\u001b[0;34m)\u001b[0m\u001b[0;34m\u001b[0m\u001b[0m\n\u001b[0m",
      "\u001b[0;31mNameError\u001b[0m: name 'inverse_fast_1d_haar_transform' is not defined"
     ]
    }
   ],
   "source": [
    "signal = [9, 7, 3, 5, 6, 10, 2, 6]\n",
    "haar_signal = fast_1d_haar_transform(signal)\n",
    "print(haar_signal)\n",
    "print(inverse_fast_1d_haar_transform(haar_signal))"
   ]
  },
  {
   "cell_type": "code",
   "execution_count": 284,
   "metadata": {},
   "outputs": [],
   "source": [
    "\"\"\"\n",
    "https://wiki.python.org/moin/NumericAndScientificRecipes\n",
    "Find 2^n that is equal to or greater than.\n",
    "\"\"\"\n",
    "def nextpow2(i):\n",
    "    n = 1\n",
    "    while n < i: n *= 2\n",
    "    return n\n",
    "\n",
    "\"\"\"\n",
    "https://www.mathworks.com/matlabcentral/fileexchange/45247-code-for-generating-haar-matrix?fbclid=IwAR3iNpupw8mx7l763E8RDpyQdkmj7TGKOpJAs3FMfTCRa0Fh85AAQ_aUbV0\n",
    "Input: N must be a power of 2\n",
    "Output: NxN Haar matrix\n",
    "\"\"\"\n",
    "def generate_haar_matrix(N):\n",
    "    p = [0, 0]\n",
    "    q = [0, 1]\n",
    "    n = nextpow2(N)\n",
    "    \n",
    "    for i in range(1, n-2):\n",
    "        p.extend(2**i*[i])\n",
    "        t = list(range(1, 2**i+1))\n",
    "        q.extend(t)\n",
    "\n",
    "    Hr = [[0 for _ in range(N)] for _ in range(N)]\n",
    "    Hr[0][:] = N*[1]\n",
    "\n",
    "    for i in range(1, N):\n",
    "        P = p[i]\n",
    "        Q = q[i]\n",
    "        for j in range(int((N*(Q-1)/(2**P))), int(N*((Q-0.5)/(2**P)))):\n",
    "            Hr[i][j] = 2**(P/2)\n",
    "        for j in range(int(N*((Q-0.5)/(2**P))), int(N*(Q/(2**P)))):\n",
    "            Hr[i][j] = -(2**(P/2))\n",
    "            \n",
    "    print(Hr)\n",
    "    Hr = [[i*(N**-.5) for i in j] for j in Hr]\n",
    "    print(Hr)\n",
    "    return Hr"
   ]
  },
  {
   "cell_type": "code",
   "execution_count": 11,
   "metadata": {},
   "outputs": [
    {
     "name": "stdout",
     "output_type": "stream",
     "text": [
      "[[ 1  1  1  1]\n",
      " [ 1  1 -1 -1]\n",
      " [ 1 -1  0  0]\n",
      " [ 0  0  1 -1]]\n"
     ]
    }
   ],
   "source": [
    "haar_matrix(2)"
   ]
  },
  {
   "cell_type": "code",
   "execution_count": 74,
   "metadata": {},
   "outputs": [
    {
     "name": "stdout",
     "output_type": "stream",
     "text": [
      "[1, 2, 3, 4, 5, 6, 7, 8, 9]\n"
     ]
    }
   ],
   "source": [
    "print(list(range(1,10)))"
   ]
  },
  {
   "cell_type": "code",
   "execution_count": null,
   "metadata": {},
   "outputs": [],
   "source": [
    "# inplace_inverse_fast_1d_haar_transform\n",
    "\n",
    "def fast_2d_haar_transform(matrix, N):\n",
    "    if N == 1:\n",
    "        return\n",
    "    first_transform = np.array([inplace_fast_1d_haar_transform(row) for row in matrix[0:2**N-1][0:2**N-1]])\n",
    "    second_transform = [inplace_fast_1d_haar_transform(col) for col in first_transform.T].T\n",
    "    third_transform = \n",
    "    rearrange matrix\n",
    "    2d_haar_transform(matrix[0:2**N-1][0:2**N-1], N/2)"
   ]
  }
 ],
 "metadata": {
  "kernelspec": {
   "display_name": "Python 3",
   "language": "python",
   "name": "python3"
  },
  "language_info": {
   "codemirror_mode": {
    "name": "ipython",
    "version": 3
   },
   "file_extension": ".py",
   "mimetype": "text/x-python",
   "name": "python",
   "nbconvert_exporter": "python",
   "pygments_lexer": "ipython3",
   "version": "3.5.6"
  }
 },
 "nbformat": 4,
 "nbformat_minor": 2
}
