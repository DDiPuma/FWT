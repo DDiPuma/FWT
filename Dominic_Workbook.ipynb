{
 "cells": [
  {
   "cell_type": "code",
   "execution_count": 1,
   "metadata": {},
   "outputs": [],
   "source": [
    "# Import external libraries\n",
    "import numpy as np\n",
    "import pywt\n",
    "\n",
    "# Import custom code\n",
    "from haar import *"
   ]
  },
  {
   "cell_type": "code",
   "execution_count": 2,
   "metadata": {},
   "outputs": [],
   "source": [
    "# Set up test signals based on Wavelets Made Easy\n",
    "test_1d_a = np.array([5, 4], dtype=float)\n",
    "test_1d_b = np.array([5, 1, 2, 8], dtype=float)\n",
    "test_1d_c = np.array([3, 1, 0, 4, 8, 6, 9, 9], dtype=float)\n",
    "test_2d_a = np.array([[9, 7], [5, 3]], dtype=float)\n",
    "test_2d_b = np.array([[9, 7, 6, 2], [5, 3, 4, 4], [8, 2, 4, 0], [6, 0, 2, 2]], dtype=float)"
   ]
  },
  {
   "cell_type": "code",
   "execution_count": 5,
   "metadata": {},
   "outputs": [
    {
     "name": "stdout",
     "output_type": "stream",
     "text": [
      "[4.5 0.5]\n",
      "[ 4. -1.  2. -3.]\n",
      "[ 5. -3.  0. -1.  1. -2.  1.  0.]\n",
      "[[6. 1.]\n",
      " [2. 0.]]\n",
      "[[ 4.   1.   2.   1. ]\n",
      " [ 1.   0.  -1.   0. ]\n",
      " [ 1.   1.   0.   1. ]\n",
      " [ 0.5  0.5  0.   1. ]]\n"
     ]
    }
   ],
   "source": [
    "# Run ordered transforms\n",
    "print(ordered_fast_1d_haar_transform(test_1d_a))\n",
    "print(ordered_fast_1d_haar_transform(test_1d_b))\n",
    "print(ordered_fast_1d_haar_transform(test_1d_c))\n",
    "print(ordered_fast_2d_haar_transform(test_2d_a))\n",
    "print(ordered_fast_2d_haar_transform(test_2d_b))"
   ]
  },
  {
   "cell_type": "code",
   "execution_count": 21,
   "metadata": {},
   "outputs": [],
   "source": [
    "# TODO - run ordered inverse transforms\n"
   ]
  },
  {
   "cell_type": "code",
   "execution_count": 8,
   "metadata": {},
   "outputs": [
    {
     "name": "stdout",
     "output_type": "stream",
     "text": [
      "[4.5 0.5]\n",
      "[ 4.  2. -1. -3.]\n",
      "[ 5.  1.  0. -2. -3.  1. -1.  0.]\n",
      "[[6. 1.]\n",
      " [2. 0.]]\n",
      "[[ 4.   2.   1.   1. ]\n",
      " [ 1.   0.   1.   1. ]\n",
      " [ 1.  -1.   0.   0. ]\n",
      " [ 0.5  0.   0.5  1. ]]\n"
     ]
    }
   ],
   "source": [
    "# Run ordered transform\n",
    "print(inplace_fast_1d_haar_transform(test_1d_a))\n",
    "print(inplace_fast_1d_haar_transform(test_1d_b))\n",
    "print(inplace_fast_1d_haar_transform(test_1d_c))\n",
    "print(inplace_fast_2d_haar_transform(test_2d_a))\n",
    "print(inplace_fast_2d_haar_transform(test_2d_b))"
   ]
  }
 ],
 "metadata": {
  "kernelspec": {
   "display_name": "Python 3",
   "language": "python",
   "name": "python3"
  },
  "language_info": {
   "codemirror_mode": {
    "name": "ipython",
    "version": 3
   },
   "file_extension": ".py",
   "mimetype": "text/x-python",
   "name": "python",
   "nbconvert_exporter": "python",
   "pygments_lexer": "ipython3",
   "version": "3.7.3"
  }
 },
 "nbformat": 4,
 "nbformat_minor": 2
}
