{
 "cells": [
  {
   "cell_type": "code",
   "execution_count": 1,
   "metadata": {},
   "outputs": [],
   "source": [
    "# Import external libraries\n",
    "import numpy as np\n",
    "# import pywt - will eventually test against PyWavelets\n",
    "\n",
    "# Import custom code\n",
    "from haar import *"
   ]
  },
  {
   "cell_type": "code",
   "execution_count": 2,
   "metadata": {},
   "outputs": [],
   "source": [
    "# Set up test signals based on Wavelets Made Easy\n",
    "test_1d_a = np.array([5, 4], dtype=float)\n",
    "test_1d_b = np.array([5, 1, 2, 8], dtype=float)\n",
    "test_1d_c = np.array([3, 1, 0, 4, 8, 6, 9, 9], dtype=float)\n",
    "test_2d_a = np.array([[9, 7], [5, 3]], dtype=float)\n",
    "test_2d_b = np.array([[9, 7, 6, 2], [5, 3, 4, 4], [8, 2, 4, 0], [6, 0, 2, 2]], dtype=float)"
   ]
  },
  {
   "cell_type": "code",
   "execution_count": 3,
   "metadata": {},
   "outputs": [
    {
     "name": "stdout",
     "output_type": "stream",
     "text": [
      "[4.5 0.5]\n",
      "[ 4. -1.  2. -3.]\n",
      "[ 5. -3.  0. -1.  1. -2.  1.  0.]\n",
      "[[6. 1.]\n",
      " [2. 0.]]\n",
      "[[ 4.   1.   2.   1. ]\n",
      " [ 1.   0.  -1.   0. ]\n",
      " [ 1.   1.   0.   1. ]\n",
      " [ 0.5  0.5  0.   1. ]]\n"
     ]
    }
   ],
   "source": [
    "# Run ordered transforms\n",
    "test_1d_a_ordered = ordered_fast_1d_haar_transform(test_1d_a)\n",
    "test_1d_b_ordered = ordered_fast_1d_haar_transform(test_1d_b)\n",
    "test_1d_c_ordered = ordered_fast_1d_haar_transform(test_1d_c)\n",
    "test_2d_a_ordered = ordered_fast_2d_haar_transform(test_2d_a)\n",
    "test_2d_b_ordered = ordered_fast_2d_haar_transform(test_2d_b)\n",
    "print(test_1d_a_ordered)\n",
    "print(test_1d_b_ordered)\n",
    "print(test_1d_c_ordered)\n",
    "print(test_2d_a_ordered)\n",
    "print(test_2d_b_ordered)"
   ]
  },
  {
   "cell_type": "code",
   "execution_count": 4,
   "metadata": {},
   "outputs": [],
   "source": [
    "# TODO - Run ordered inverse transforms\n",
    "#test_1d_a_ordered_inverse = ordered_inverse_fast_1d_haar_transform(test_1d_a_ordered)\n",
    "#test_1d_b_ordered_inverse = ordered_inverse_fast_1d_haar_transform(test_1d_b_ordered)\n",
    "#test_1d_c_ordered_inverse = ordered_inverse_fast_1d_haar_transform(test_1d_c_ordered)\n",
    "#test_2d_a_ordered_inverse = ordered_inverse_fast_2d_haar_transform(test_2d_a_ordered)\n",
    "#test_2d_b_ordered_inverse = ordered_inverse_fast_2d_haar_transform(test_2d_b_ordered)\n",
    "#print(test_1d_a_ordered_inverse)\n",
    "#print(test_1d_b_ordered_inverse)\n",
    "#print(test_1d_c_ordered_inverse)\n",
    "#print(test_2d_a_ordered_inverse)\n",
    "#print(test_2d_b_ordered_inverse)"
   ]
  },
  {
   "cell_type": "code",
   "execution_count": 5,
   "metadata": {},
   "outputs": [
    {
     "name": "stdout",
     "output_type": "stream",
     "text": [
      "[4.5 0.5]\n",
      "[ 4.  2. -1. -3.]\n",
      "[ 5.  1.  0. -2. -3.  1. -1.  0.]\n",
      "[[6. 1.]\n",
      " [2. 0.]]\n",
      "[[ 4.   2.   1.   1. ]\n",
      " [ 1.   0.   1.   1. ]\n",
      " [ 1.  -1.   0.   0. ]\n",
      " [ 0.5  0.   0.5  1. ]]\n"
     ]
    }
   ],
   "source": [
    "# Run inplace transforms\n",
    "test_1d_a_inplace = inplace_fast_1d_haar_transform(test_1d_a)\n",
    "test_1d_b_inplace = inplace_fast_1d_haar_transform(test_1d_b)\n",
    "test_1d_c_inplace = inplace_fast_1d_haar_transform(test_1d_c)\n",
    "test_2d_a_inplace = inplace_fast_2d_haar_transform(test_2d_a)\n",
    "test_2d_b_inplace = inplace_fast_2d_haar_transform(test_2d_b)\n",
    "print(test_1d_a_inplace)\n",
    "print(test_1d_b_inplace)\n",
    "print(test_1d_c_inplace)\n",
    "print(test_2d_a_inplace)\n",
    "print(test_2d_b_inplace)"
   ]
  },
  {
   "cell_type": "code",
   "execution_count": 6,
   "metadata": {},
   "outputs": [
    {
     "name": "stdout",
     "output_type": "stream",
     "text": [
      "[5. 4.]\n",
      "[5. 1. 2. 8.]\n",
      "[3. 1. 0. 4. 8. 6. 9. 9.]\n",
      "[[9. 7.]\n",
      " [5. 3.]]\n",
      "[[9. 7. 6. 2.]\n",
      " [5. 3. 4. 4.]\n",
      " [8. 2. 4. 0.]\n",
      " [6. 0. 2. 2.]]\n"
     ]
    }
   ],
   "source": [
    "# Run inplace inverse transforms\n",
    "test_1d_a_inplace_inverse = inplace_inverse_fast_1d_haar_transform(test_1d_a_inplace)\n",
    "test_1d_b_inplace_inverse = inplace_inverse_fast_1d_haar_transform(test_1d_b_inplace)\n",
    "test_1d_c_inplace_inverse = inplace_inverse_fast_1d_haar_transform(test_1d_c_inplace)\n",
    "test_2d_a_inplace_inverse = inplace_inverse_fast_2d_haar_transform(test_2d_a_inplace)\n",
    "test_2d_b_inplace_inverse = inplace_inverse_fast_2d_haar_transform(test_2d_b_inplace)\n",
    "print(test_1d_a_inplace_inverse)\n",
    "print(test_1d_b_inplace_inverse)\n",
    "print(test_1d_c_inplace_inverse)\n",
    "print(test_2d_a_inplace_inverse)\n",
    "print(test_2d_b_inplace_inverse)"
   ]
  },
  {
   "cell_type": "code",
   "execution_count": 7,
   "metadata": {},
   "outputs": [
    {
     "name": "stdout",
     "output_type": "stream",
     "text": [
      "[[6.36396103]\n",
      " [0.70710678]]\n",
      "[[ 8.        ]\n",
      " [-2.        ]\n",
      " [ 2.82842712]\n",
      " [-4.24264069]]\n",
      "[[14.14213562]\n",
      " [-8.48528137]\n",
      " [ 0.        ]\n",
      " [-2.        ]\n",
      " [ 1.41421356]\n",
      " [-2.82842712]\n",
      " [ 1.41421356]\n",
      " [ 0.        ]]\n",
      "[[1.20000000e+01 2.00000000e+00]\n",
      " [4.00000000e+00 6.66133815e-16]]\n",
      "[[ 1.60000000e+01  4.00000000e+00  5.65685425e+00  2.82842712e+00]\n",
      " [ 4.00000000e+00  0.00000000e+00 -2.82842712e+00  0.00000000e+00]\n",
      " [ 2.82842712e+00  2.82842712e+00  6.66133815e-16  2.00000000e+00]\n",
      " [ 1.41421356e+00  1.41421356e+00  0.00000000e+00  2.00000000e+00]]\n"
     ]
    }
   ],
   "source": [
    "# Run \"slow\" matrix-based transforms\n",
    "test_1d_a_matrix = matrix_1d_haar_transform(test_1d_a)\n",
    "test_1d_b_matrix = matrix_1d_haar_transform(test_1d_b)\n",
    "test_1d_c_matrix = matrix_1d_haar_transform(test_1d_c)\n",
    "test_2d_a_matrix = matrix_2d_haar_transform(test_2d_a)\n",
    "test_2d_b_matrix = matrix_2d_haar_transform(test_2d_b)\n",
    "print(test_1d_a_matrix)\n",
    "print(test_1d_b_matrix)\n",
    "print(test_1d_c_matrix)\n",
    "print(test_2d_a_matrix)\n",
    "print(test_2d_b_matrix)"
   ]
  },
  {
   "cell_type": "code",
   "execution_count": 8,
   "metadata": {},
   "outputs": [
    {
     "name": "stdout",
     "output_type": "stream",
     "text": [
      "[[5.]\n",
      " [4.]]\n",
      "[[5.]\n",
      " [1.]\n",
      " [2.]\n",
      " [8.]]\n",
      "[[3.0000000e+00]\n",
      " [1.0000000e+00]\n",
      " [4.4408921e-16]\n",
      " [4.0000000e+00]\n",
      " [8.0000000e+00]\n",
      " [6.0000000e+00]\n",
      " [9.0000000e+00]\n",
      " [9.0000000e+00]]\n",
      "[[9. 7.]\n",
      " [5. 3.]]\n",
      "[[9.00000000e+00 7.00000000e+00 6.00000000e+00 2.00000000e+00]\n",
      " [5.00000000e+00 3.00000000e+00 4.00000000e+00 4.00000000e+00]\n",
      " [8.00000000e+00 2.00000000e+00 4.00000000e+00 4.44089210e-16]\n",
      " [6.00000000e+00 1.33226763e-15 2.00000000e+00 2.00000000e+00]]\n"
     ]
    }
   ],
   "source": [
    "# Run \"slow\" matrix-based inverse transforms\n",
    "test_1d_a_matrix_inverse = matrix_inverse_1d_haar_transform(test_1d_a_matrix)\n",
    "test_1d_b_matrix_inverse = matrix_inverse_1d_haar_transform(test_1d_b_matrix)\n",
    "test_1d_c_matrix_inverse = matrix_inverse_1d_haar_transform(test_1d_c_matrix)\n",
    "test_2d_a_matrix_inverse = matrix_inverse_2d_haar_transform(test_2d_a_matrix)\n",
    "test_2d_b_matrix_inverse = matrix_inverse_2d_haar_transform(test_2d_b_matrix)\n",
    "print(test_1d_a_matrix_inverse)\n",
    "print(test_1d_b_matrix_inverse)\n",
    "print(test_1d_c_matrix_inverse)\n",
    "print(test_2d_a_matrix_inverse)\n",
    "print(test_2d_b_matrix_inverse)"
   ]
  },
  {
   "cell_type": "code",
   "execution_count": null,
   "metadata": {},
   "outputs": [],
   "source": []
  }
 ],
 "metadata": {
  "kernelspec": {
   "display_name": "Python 3",
   "language": "python",
   "name": "python3"
  },
  "language_info": {
   "codemirror_mode": {
    "name": "ipython",
    "version": 3
   },
   "file_extension": ".py",
   "mimetype": "text/x-python",
   "name": "python",
   "nbconvert_exporter": "python",
   "pygments_lexer": "ipython3",
   "version": "3.7.3"
  }
 },
 "nbformat": 4,
 "nbformat_minor": 2
}
