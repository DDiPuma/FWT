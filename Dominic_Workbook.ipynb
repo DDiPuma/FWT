{
 "cells": [
  {
   "cell_type": "code",
   "execution_count": 1,
   "metadata": {},
   "outputs": [],
   "source": [
    "# Import external libraries\n",
    "import numpy as np\n",
    "# import pywt - will eventually test against PyWavelets\n",
    "\n",
    "# Import custom code\n",
    "from haar import *"
   ]
  },
  {
   "cell_type": "code",
   "execution_count": 2,
   "metadata": {},
   "outputs": [],
   "source": [
    "# Set up test signals based on Wavelets Made Easy\n",
    "test_1d_a = np.array([5, 4], dtype=float)\n",
    "test_1d_b = np.array([5, 1, 2, 8], dtype=float)\n",
    "test_1d_c = np.array([3, 1, 0, 4, 8, 6, 9, 9], dtype=float)\n",
    "test_2d_a = np.array([[9, 7], [5, 3]], dtype=float)\n",
    "test_2d_b = np.array([[9, 7, 6, 2], [5, 3, 4, 4], [8, 2, 4, 0], [6, 0, 2, 2]], dtype=float)"
   ]
  },
  {
   "cell_type": "code",
   "execution_count": 3,
   "metadata": {},
   "outputs": [
    {
     "name": "stdout",
     "output_type": "stream",
     "text": [
      "[4.5 0.5]\n",
      "[ 4. -1.  2. -3.]\n",
      "[ 5. -3.  0. -1.  1. -2.  1.  0.]\n",
      "[[6. 1.]\n",
      " [2. 0.]]\n",
      "[[ 4.   1.   2.   1. ]\n",
      " [ 1.   0.  -1.   0. ]\n",
      " [ 1.   1.   0.   1. ]\n",
      " [ 0.5  0.5  0.   1. ]]\n"
     ]
    }
   ],
   "source": [
    "# Run ordered transforms\n",
    "test_1d_a_ordered = ordered_fast_1d_haar_transform(test_1d_a)\n",
    "test_1d_b_ordered = ordered_fast_1d_haar_transform(test_1d_b)\n",
    "test_1d_c_ordered = ordered_fast_1d_haar_transform(test_1d_c)\n",
    "test_2d_a_ordered = ordered_fast_2d_haar_transform(test_2d_a)\n",
    "test_2d_b_ordered = ordered_fast_2d_haar_transform(test_2d_b)\n",
    "print(test_1d_a_ordered)\n",
    "print(test_1d_b_ordered)\n",
    "print(test_1d_c_ordered)\n",
    "print(test_2d_a_ordered)\n",
    "print(test_2d_b_ordered)"
   ]
  },
  {
   "cell_type": "code",
   "execution_count": 4,
   "metadata": {},
   "outputs": [],
   "source": [
    "# TODO - Run ordered inverse transforms\n",
    "#test_1d_a_ordered_inverse = ordered_inverse_fast_1d_haar_transform(test_1d_a_ordered)\n",
    "#test_1d_b_ordered_inverse = ordered_inverse_fast_1d_haar_transform(test_1d_b_ordered)\n",
    "#test_1d_c_ordered_inverse = ordered_inverse_fast_1d_haar_transform(test_1d_c_ordered)\n",
    "#test_2d_a_ordered_inverse = ordered_inverse_fast_2d_haar_transform(test_2d_a_ordered)\n",
    "#test_2d_b_ordered_inverse = ordered_inverse_fast_2d_haar_transform(test_2d_b_ordered)\n",
    "#print(test_1d_a_ordered_inverse)\n",
    "#print(test_1d_b_ordered_inverse)\n",
    "#print(test_1d_c_ordered_inverse)\n",
    "#print(test_2d_a_ordered_inverse)\n",
    "#print(test_2d_b_ordered_inverse)"
   ]
  },
  {
   "cell_type": "code",
   "execution_count": 5,
   "metadata": {},
   "outputs": [
    {
     "name": "stdout",
     "output_type": "stream",
     "text": [
      "[4.5 0.5]\n",
      "[ 4.  2. -1. -3.]\n",
      "[ 5.  1.  0. -2. -3.  1. -1.  0.]\n",
      "[[6. 1.]\n",
      " [2. 0.]]\n",
      "[[ 4.   2.   1.   1. ]\n",
      " [ 1.   0.   1.   1. ]\n",
      " [ 1.  -1.   0.   0. ]\n",
      " [ 0.5  0.   0.5  1. ]]\n"
     ]
    }
   ],
   "source": [
    "# Run inplace transforms\n",
    "test_1d_a_inplace = inplace_fast_1d_haar_transform(test_1d_a)\n",
    "test_1d_b_inplace = inplace_fast_1d_haar_transform(test_1d_b)\n",
    "test_1d_c_inplace = inplace_fast_1d_haar_transform(test_1d_c)\n",
    "test_2d_a_inplace = inplace_fast_2d_haar_transform(test_2d_a)\n",
    "test_2d_b_inplace = inplace_fast_2d_haar_transform(test_2d_b)\n",
    "print(test_1d_a_inplace)\n",
    "print(test_1d_b_inplace)\n",
    "print(test_1d_c_inplace)\n",
    "print(test_2d_a_inplace)\n",
    "print(test_2d_b_inplace)"
   ]
  },
  {
   "cell_type": "code",
   "execution_count": 6,
   "metadata": {},
   "outputs": [
    {
     "name": "stdout",
     "output_type": "stream",
     "text": [
      "[5. 4.]\n",
      "[5. 1. 2. 8.]\n",
      "[3. 1. 0. 4. 8. 6. 9. 9.]\n",
      "[[9. 7.]\n",
      " [5. 3.]]\n",
      "[[9. 7. 6. 2.]\n",
      " [5. 3. 4. 4.]\n",
      " [8. 2. 4. 0.]\n",
      " [6. 0. 2. 2.]]\n"
     ]
    }
   ],
   "source": [
    "# Run inplace inverse transforms\n",
    "test_1d_a_inplace_inverse = inplace_inverse_fast_1d_haar_transform(test_1d_a_inplace)\n",
    "test_1d_b_inplace_inverse = inplace_inverse_fast_1d_haar_transform(test_1d_b_inplace)\n",
    "test_1d_c_inplace_inverse = inplace_inverse_fast_1d_haar_transform(test_1d_c_inplace)\n",
    "test_2d_a_inplace_inverse = inplace_inverse_fast_2d_haar_transform(test_2d_a_inplace)\n",
    "test_2d_b_inplace_inverse = inplace_inverse_fast_2d_haar_transform(test_2d_b_inplace)\n",
    "print(test_1d_a_inplace_inverse)\n",
    "print(test_1d_b_inplace_inverse)\n",
    "print(test_1d_c_inplace_inverse)\n",
    "print(test_2d_a_inplace_inverse)\n",
    "print(test_2d_b_inplace_inverse)"
   ]
  },
  {
   "cell_type": "code",
   "execution_count": 7,
   "metadata": {},
   "outputs": [
    {
     "name": "stdout",
     "output_type": "stream",
     "text": [
      "[6.36396103 0.70710678]\n",
      "[ 4.41421356  1.58578644  7.65685425 -3.65685425]\n",
      "[ 7.07106781 -4.24264069  5.65685425 -2.82842712  9.07106781 -3.65685425\n",
      "  5.07106781 -7.65685425]\n",
      "[[1.20000000e+01 2.00000000e+00]\n",
      " [4.00000000e+00 6.66133815e-16]]\n",
      "[[ 1.60000000e+01  4.00000000e+00  5.65685425e+00  2.82842712e+00]\n",
      " [ 4.00000000e+00  0.00000000e+00 -2.82842712e+00  0.00000000e+00]\n",
      " [ 2.82842712e+00  2.82842712e+00  6.66133815e-16  2.00000000e+00]\n",
      " [ 1.41421356e+00  1.41421356e+00  0.00000000e+00  2.00000000e+00]]\n"
     ]
    }
   ],
   "source": [
    "# Run \"slow\" matrix-based transforms\n",
    "test_1d_a_matrix = matrix_1d_haar_transform(test_1d_a)\n",
    "test_1d_b_matrix = matrix_1d_haar_transform(test_1d_b)\n",
    "test_1d_c_matrix = matrix_1d_haar_transform(test_1d_c)\n",
    "test_2d_a_matrix = matrix_2d_haar_transform(test_2d_a)\n",
    "test_2d_b_matrix = matrix_2d_haar_transform(test_2d_b)\n",
    "print(test_1d_a_matrix)\n",
    "print(test_1d_b_matrix)\n",
    "print(test_1d_c_matrix)\n",
    "print(test_2d_a_matrix)\n",
    "print(test_2d_b_matrix)"
   ]
  },
  {
   "cell_type": "code",
   "execution_count": 13,
   "metadata": {},
   "outputs": [
    {
     "name": "stdout",
     "output_type": "stream",
     "text": [
      "[5. 4.]\n",
      "[ 8.41421356 -2.41421356 -1.17157288  4.        ]\n",
      "[10.24264069 -2.58578644 -4.41421356  0.75735931  6.17157288 -1.\n",
      "  0.         10.82842712]\n",
      "[[9. 7.]\n",
      " [5. 3.]]\n",
      "[[ 1.05355339e+01  5.70710678e+00  5.65685425e+00 -1.41421356e+00]\n",
      " [ 4.29289322e+00  3.46446609e+00  5.65685425e+00  1.41421356e+00]\n",
      " [ 9.65685425e+00  1.65685425e+00  4.00000000e+00  2.82842712e+00]\n",
      " [ 1.00000000e+00  1.00000000e+00  0.00000000e+00  3.33066907e-16]]\n"
     ]
    }
   ],
   "source": [
    "# Run \"slow\" matrix-based inverse transforms\n",
    "test_1d_a_matrix_inverse = matrix_1d_haar_transform(test_1d_a_matrix)\n",
    "test_1d_b_matrix_inverse = matrix_1d_haar_transform(test_1d_b_matrix)\n",
    "test_1d_c_matrix_inverse = matrix_1d_haar_transform(test_1d_c_matrix)\n",
    "test_2d_a_matrix_inverse = matrix_2d_haar_transform(test_2d_a_matrix)\n",
    "test_2d_b_matrix_inverse = matrix_2d_haar_transform(test_2d_b_matrix)\n",
    "print(test_1d_a_matrix_inverse)\n",
    "print(test_1d_b_matrix_inverse)\n",
    "print(test_1d_c_matrix_inverse)\n",
    "print(test_2d_a_matrix_inverse)\n",
    "print(test_2d_b_matrix_inverse)"
   ]
  },
  {
   "cell_type": "code",
   "execution_count": null,
   "metadata": {},
   "outputs": [],
   "source": []
  }
 ],
 "metadata": {
  "kernelspec": {
   "display_name": "Python 3",
   "language": "python",
   "name": "python3"
  },
  "language_info": {
   "codemirror_mode": {
    "name": "ipython",
    "version": 3
   },
   "file_extension": ".py",
   "mimetype": "text/x-python",
   "name": "python",
   "nbconvert_exporter": "python",
   "pygments_lexer": "ipython3",
   "version": "3.7.3"
  }
 },
 "nbformat": 4,
 "nbformat_minor": 2
}
